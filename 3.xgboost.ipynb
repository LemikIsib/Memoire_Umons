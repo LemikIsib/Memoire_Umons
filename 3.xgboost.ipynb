{
 "cells": [
  {
   "cell_type": "code",
   "execution_count": 1,
   "id": "25924dd6",
   "metadata": {},
   "outputs": [],
   "source": [
    "from tqdm import tqdm\n",
    "\n",
    "import numpy as np\n",
    "import pandas as pd\n",
    "import seaborn as sns\n",
    "import matplotlib.pyplot as plt\n",
    "\n",
    "from sklearn.metrics import f1_score\n",
    "from sklearn.utils import class_weight\n",
    "from sklearn.preprocessing import LabelEncoder\n",
    "from sklearn.metrics import classification_report\n",
    "from sklearn.model_selection import StratifiedKFold\n",
    "\n",
    "from xgboost import XGBClassifier\n",
    "\n",
    "SEED = 42\n",
    "plt.style.use(\"ggplot\")\n",
    "pd.options.display.max_columns = None"
   ]
  },
  {
   "cell_type": "code",
   "execution_count": 2,
   "id": "1d2beb2a",
   "metadata": {},
   "outputs": [],
   "source": [
    "# Chargeaons les données pré-traitées\n",
    "train_df = pd.read_csv(\"train_pre.csv\")\n",
    "test_df = pd.read_csv(\"test_pre.csv\")"
   ]
  },
  {
   "cell_type": "code",
   "execution_count": 3,
   "id": "1990bedd",
   "metadata": {},
   "outputs": [
    {
     "data": {
      "text/html": [
       "<div>\n",
       "<style scoped>\n",
       "    .dataframe tbody tr th:only-of-type {\n",
       "        vertical-align: middle;\n",
       "    }\n",
       "\n",
       "    .dataframe tbody tr th {\n",
       "        vertical-align: top;\n",
       "    }\n",
       "\n",
       "    .dataframe thead th {\n",
       "        text-align: right;\n",
       "    }\n",
       "</style>\n",
       "<table border=\"1\" class=\"dataframe\">\n",
       "  <thead>\n",
       "    <tr style=\"text-align: right;\">\n",
       "      <th></th>\n",
       "      <th>id</th>\n",
       "      <th>dur</th>\n",
       "      <th>proto</th>\n",
       "      <th>service</th>\n",
       "      <th>sbytes</th>\n",
       "      <th>dbytes</th>\n",
       "      <th>rate</th>\n",
       "      <th>sload</th>\n",
       "      <th>dload</th>\n",
       "      <th>sinpkt</th>\n",
       "      <th>dinpkt</th>\n",
       "      <th>sjit</th>\n",
       "      <th>djit</th>\n",
       "      <th>stcpb</th>\n",
       "      <th>dtcpb</th>\n",
       "      <th>tcprtt</th>\n",
       "      <th>synack</th>\n",
       "      <th>ackdat</th>\n",
       "      <th>smean</th>\n",
       "      <th>dmean</th>\n",
       "      <th>response_body_len</th>\n",
       "      <th>ct_srv_src</th>\n",
       "      <th>ct_dst_ltm</th>\n",
       "      <th>ct_src_dport_ltm</th>\n",
       "      <th>ct_dst_sport_ltm</th>\n",
       "      <th>ct_dst_src_ltm</th>\n",
       "      <th>ct_src_ltm</th>\n",
       "      <th>ct_srv_dst</th>\n",
       "      <th>attack_cat</th>\n",
       "    </tr>\n",
       "  </thead>\n",
       "  <tbody>\n",
       "    <tr>\n",
       "      <th>0</th>\n",
       "      <td>1</td>\n",
       "      <td>0.002025</td>\n",
       "      <td>90</td>\n",
       "      <td>12</td>\n",
       "      <td>0.000018</td>\n",
       "      <td>0.000012</td>\n",
       "      <td>0.000074</td>\n",
       "      <td>2.364553e-06</td>\n",
       "      <td>0.000379</td>\n",
       "      <td>0.000288</td>\n",
       "      <td>0.000148</td>\n",
       "      <td>0.000021</td>\n",
       "      <td>0.000041</td>\n",
       "      <td>0.144768</td>\n",
       "      <td>0.512828</td>\n",
       "      <td>0.000000</td>\n",
       "      <td>0.000000</td>\n",
       "      <td>0.000000</td>\n",
       "      <td>0.010163</td>\n",
       "      <td>0.029492</td>\n",
       "      <td>0.0</td>\n",
       "      <td>0.000000</td>\n",
       "      <td>0.00</td>\n",
       "      <td>0.00</td>\n",
       "      <td>0.0</td>\n",
       "      <td>0.000000</td>\n",
       "      <td>0.000000</td>\n",
       "      <td>0.000000</td>\n",
       "      <td>Normal</td>\n",
       "    </tr>\n",
       "    <tr>\n",
       "      <th>1</th>\n",
       "      <td>2</td>\n",
       "      <td>0.010832</td>\n",
       "      <td>90</td>\n",
       "      <td>12</td>\n",
       "      <td>0.000054</td>\n",
       "      <td>0.002867</td>\n",
       "      <td>0.000078</td>\n",
       "      <td>1.401989e-06</td>\n",
       "      <td>0.022458</td>\n",
       "      <td>0.000592</td>\n",
       "      <td>0.000272</td>\n",
       "      <td>0.000042</td>\n",
       "      <td>0.004796</td>\n",
       "      <td>0.330128</td>\n",
       "      <td>0.716524</td>\n",
       "      <td>0.000000</td>\n",
       "      <td>0.000000</td>\n",
       "      <td>0.000000</td>\n",
       "      <td>0.016260</td>\n",
       "      <td>0.758573</td>\n",
       "      <td>0.0</td>\n",
       "      <td>0.677419</td>\n",
       "      <td>0.00</td>\n",
       "      <td>0.00</td>\n",
       "      <td>0.0</td>\n",
       "      <td>0.015625</td>\n",
       "      <td>0.000000</td>\n",
       "      <td>0.081967</td>\n",
       "      <td>Normal</td>\n",
       "    </tr>\n",
       "    <tr>\n",
       "      <th>2</th>\n",
       "      <td>3</td>\n",
       "      <td>0.027052</td>\n",
       "      <td>90</td>\n",
       "      <td>12</td>\n",
       "      <td>0.000026</td>\n",
       "      <td>0.000900</td>\n",
       "      <td>0.000014</td>\n",
       "      <td>2.625704e-07</td>\n",
       "      <td>0.002717</td>\n",
       "      <td>0.002748</td>\n",
       "      <td>0.001811</td>\n",
       "      <td>0.011763</td>\n",
       "      <td>0.039466</td>\n",
       "      <td>0.492706</td>\n",
       "      <td>0.689918</td>\n",
       "      <td>0.044423</td>\n",
       "      <td>0.029261</td>\n",
       "      <td>0.033164</td>\n",
       "      <td>0.012195</td>\n",
       "      <td>0.565158</td>\n",
       "      <td>0.0</td>\n",
       "      <td>0.096774</td>\n",
       "      <td>0.02</td>\n",
       "      <td>0.00</td>\n",
       "      <td>0.0</td>\n",
       "      <td>0.031250</td>\n",
       "      <td>0.016949</td>\n",
       "      <td>0.081967</td>\n",
       "      <td>Normal</td>\n",
       "    </tr>\n",
       "    <tr>\n",
       "      <th>3</th>\n",
       "      <td>4</td>\n",
       "      <td>0.028027</td>\n",
       "      <td>90</td>\n",
       "      <td>2</td>\n",
       "      <td>0.000046</td>\n",
       "      <td>0.000053</td>\n",
       "      <td>0.000014</td>\n",
       "      <td>4.576117e-07</td>\n",
       "      <td>0.000150</td>\n",
       "      <td>0.001812</td>\n",
       "      <td>0.001591</td>\n",
       "      <td>0.000177</td>\n",
       "      <td>0.017249</td>\n",
       "      <td>0.257772</td>\n",
       "      <td>0.243882</td>\n",
       "      <td>0.000000</td>\n",
       "      <td>0.000000</td>\n",
       "      <td>0.000000</td>\n",
       "      <td>0.016260</td>\n",
       "      <td>0.043896</td>\n",
       "      <td>0.0</td>\n",
       "      <td>0.000000</td>\n",
       "      <td>0.02</td>\n",
       "      <td>0.00</td>\n",
       "      <td>0.0</td>\n",
       "      <td>0.031250</td>\n",
       "      <td>0.016949</td>\n",
       "      <td>0.000000</td>\n",
       "      <td>Normal</td>\n",
       "    </tr>\n",
       "    <tr>\n",
       "      <th>4</th>\n",
       "      <td>5</td>\n",
       "      <td>0.007491</td>\n",
       "      <td>90</td>\n",
       "      <td>12</td>\n",
       "      <td>0.000039</td>\n",
       "      <td>0.000018</td>\n",
       "      <td>0.000033</td>\n",
       "      <td>1.429776e-06</td>\n",
       "      <td>0.000178</td>\n",
       "      <td>0.000566</td>\n",
       "      <td>0.001334</td>\n",
       "      <td>0.001654</td>\n",
       "      <td>0.000400</td>\n",
       "      <td>0.567209</td>\n",
       "      <td>0.460351</td>\n",
       "      <td>0.050967</td>\n",
       "      <td>0.033874</td>\n",
       "      <td>0.037632</td>\n",
       "      <td>0.016938</td>\n",
       "      <td>0.030864</td>\n",
       "      <td>0.0</td>\n",
       "      <td>0.677419</td>\n",
       "      <td>0.02</td>\n",
       "      <td>0.02</td>\n",
       "      <td>0.0</td>\n",
       "      <td>0.609375</td>\n",
       "      <td>0.016949</td>\n",
       "      <td>0.622951</td>\n",
       "      <td>Normal</td>\n",
       "    </tr>\n",
       "  </tbody>\n",
       "</table>\n",
       "</div>"
      ],
      "text/plain": [
       "   id       dur  proto  service    sbytes    dbytes      rate         sload   \n",
       "0   1  0.002025     90       12  0.000018  0.000012  0.000074  2.364553e-06  \\\n",
       "1   2  0.010832     90       12  0.000054  0.002867  0.000078  1.401989e-06   \n",
       "2   3  0.027052     90       12  0.000026  0.000900  0.000014  2.625704e-07   \n",
       "3   4  0.028027     90        2  0.000046  0.000053  0.000014  4.576117e-07   \n",
       "4   5  0.007491     90       12  0.000039  0.000018  0.000033  1.429776e-06   \n",
       "\n",
       "      dload    sinpkt    dinpkt      sjit      djit     stcpb     dtcpb   \n",
       "0  0.000379  0.000288  0.000148  0.000021  0.000041  0.144768  0.512828  \\\n",
       "1  0.022458  0.000592  0.000272  0.000042  0.004796  0.330128  0.716524   \n",
       "2  0.002717  0.002748  0.001811  0.011763  0.039466  0.492706  0.689918   \n",
       "3  0.000150  0.001812  0.001591  0.000177  0.017249  0.257772  0.243882   \n",
       "4  0.000178  0.000566  0.001334  0.001654  0.000400  0.567209  0.460351   \n",
       "\n",
       "     tcprtt    synack    ackdat     smean     dmean  response_body_len   \n",
       "0  0.000000  0.000000  0.000000  0.010163  0.029492                0.0  \\\n",
       "1  0.000000  0.000000  0.000000  0.016260  0.758573                0.0   \n",
       "2  0.044423  0.029261  0.033164  0.012195  0.565158                0.0   \n",
       "3  0.000000  0.000000  0.000000  0.016260  0.043896                0.0   \n",
       "4  0.050967  0.033874  0.037632  0.016938  0.030864                0.0   \n",
       "\n",
       "   ct_srv_src  ct_dst_ltm  ct_src_dport_ltm  ct_dst_sport_ltm  ct_dst_src_ltm   \n",
       "0    0.000000        0.00              0.00               0.0        0.000000  \\\n",
       "1    0.677419        0.00              0.00               0.0        0.015625   \n",
       "2    0.096774        0.02              0.00               0.0        0.031250   \n",
       "3    0.000000        0.02              0.00               0.0        0.031250   \n",
       "4    0.677419        0.02              0.02               0.0        0.609375   \n",
       "\n",
       "   ct_src_ltm  ct_srv_dst attack_cat  \n",
       "0    0.000000    0.000000     Normal  \n",
       "1    0.000000    0.081967     Normal  \n",
       "2    0.016949    0.081967     Normal  \n",
       "3    0.016949    0.000000     Normal  \n",
       "4    0.016949    0.622951     Normal  "
      ]
     },
     "execution_count": 3,
     "metadata": {},
     "output_type": "execute_result"
    }
   ],
   "source": [
    "train_df.head()"
   ]
  },
  {
   "cell_type": "code",
   "execution_count": 4,
   "id": "4e4510f7",
   "metadata": {},
   "outputs": [
    {
     "name": "stdout",
     "output_type": "stream",
     "text": [
      "Train Shape: (139125, 29)\n",
      "Test Shape: (82176, 29)\n"
     ]
    }
   ],
   "source": [
    "# Nous avons fait une sélection de caractériqtiques.Et 27 caractéristiques ont été retenues\n",
    "print(f\"Train Shape: {train_df.shape}\\nTest Shape: {test_df.shape}\") "
   ]
  },
  {
   "cell_type": "markdown",
   "id": "407d2bdb",
   "metadata": {},
   "source": [
    "## 1. Split Data & Cross Validation"
   ]
  },
  {
   "cell_type": "code",
   "execution_count": 5,
   "id": "37910053",
   "metadata": {
    "scrolled": true
   },
   "outputs": [
    {
     "data": {
      "text/plain": [
       "(array(['ackdat', 'ct_dst_ltm', 'ct_dst_sport_ltm', 'ct_dst_src_ltm',\n",
       "        'ct_src_dport_ltm', 'ct_src_ltm', 'ct_srv_dst', 'ct_srv_src',\n",
       "        'dbytes', 'dinpkt', 'djit', 'dload', 'dmean', 'dtcpb', 'dur',\n",
       "        'proto', 'rate', 'response_body_len', 'sbytes', 'service',\n",
       "        'sinpkt', 'sjit', 'sload', 'smean', 'stcpb', 'synack', 'tcprtt'],\n",
       "       dtype=object),\n",
       " 27)"
      ]
     },
     "execution_count": 5,
     "metadata": {},
     "output_type": "execute_result"
    }
   ],
   "source": [
    "# Variables d'entraînement et variable réponse\n",
    "main_cols = train_df.columns.difference([\"id\", \"attack_cat\"]).values\n",
    "X = train_df[main_cols]\n",
    "y = train_df[\"attack_cat\"]\n",
    "\n",
    "# Encodons la variable réponse pour pouvoir entraîner XGBoost\n",
    "le = LabelEncoder()\n",
    "y_enc = le.fit_transform(y)\n",
    "\n",
    "# Définissons notre validation croisée\n",
    "skf = StratifiedKFold(n_splits=5, shuffle=True, random_state=SEED)\n",
    "main_cols, len(main_cols)"
   ]
  },
  {
   "cell_type": "markdown",
   "id": "42b61a51",
   "metadata": {},
   "source": [
    "## 2. Modeling"
   ]
  },
  {
   "cell_type": "code",
   "execution_count": 6,
   "id": "8ec0b660",
   "metadata": {},
   "outputs": [],
   "source": [
    "# Chargeons XGBoost\n",
    "xgb = [('XGB', XGBClassifier(n_estimators=200, eval_metric=\"mlogloss\", early_stopping_rounds=20, random_state=SEED))]"
   ]
  },
  {
   "cell_type": "code",
   "execution_count": 7,
   "id": "22e1bcd9",
   "metadata": {},
   "outputs": [],
   "source": [
    "def oof_pred(model=None, X=None, y=None, test_df=None, main_cols=None, cv=None):\n",
    "    \n",
    "    oofs  = None\n",
    "    y_oof = None\n",
    "    test_predictions = None\n",
    "    \n",
    "    for fold, (trn_idx, val_idx) in tqdm(enumerate(cv.split(X, y))):\n",
    "        X_trn, y_trn = X.iloc[trn_idx].values, y[trn_idx]\n",
    "        X_val, y_val = X.iloc[val_idx].values, y[val_idx]\n",
    "\n",
    "        for name, clf in model:\n",
    "            weights = class_weight.compute_sample_weight(class_weight='balanced', y=y_trn)\n",
    "            clf.fit(X_trn, y_trn, eval_set=[(X_val, y_val)], sample_weight=weights, verbose=10)\n",
    "        \n",
    "        vp = clf.predict(X_val, iteration_range=(0, clf.best_iteration+1))\n",
    "        \n",
    "        if oofs is None:\n",
    "            oofs   = vp\n",
    "            y_oofs = y_val\n",
    "        else:\n",
    "            oofs   = np.hstack((oofs, vp))\n",
    "            y_oofs = np.hstack((y_oofs, y_val))\n",
    "            \n",
    "        val_score = f1_score(y_val, vp, average=\"macro\")\n",
    "        \n",
    "#         print(4*'-- -- -- --')\n",
    "        print(f'Fold {fold+1} Val score: {val_score:.4f}')\n",
    "        print(4*'-- -- -- --')\n",
    "\n",
    "        tp = clf.predict_proba(test_df[main_cols].values, iteration_range=(0, clf.best_iteration+1)) / cv.n_splits\n",
    "        if test_predictions is None:\n",
    "            test_predictions = tp\n",
    "        else:\n",
    "            test_predictions += tp\n",
    "\n",
    "    print(3*'###',10*\"^\",3*'###')\n",
    "    score = f1_score(y_oofs, oofs, average=\"macro\")\n",
    "    print(f\"{name}: {score:.4f}\")\n",
    "    \n",
    "    return test_predictions, score"
   ]
  },
  {
   "cell_type": "code",
   "execution_count": 8,
   "id": "f9983f2c",
   "metadata": {},
   "outputs": [
    {
     "name": "stderr",
     "output_type": "stream",
     "text": [
      "\r",
      "0it [00:00, ?it/s]"
     ]
    },
    {
     "name": "stdout",
     "output_type": "stream",
     "text": [
      "[0]\tvalidation_0-mlogloss:1.52140\n",
      "[10]\tvalidation_0-mlogloss:0.73838\n",
      "[20]\tvalidation_0-mlogloss:0.66518\n",
      "[30]\tvalidation_0-mlogloss:0.64227\n",
      "[40]\tvalidation_0-mlogloss:0.62919\n",
      "[50]\tvalidation_0-mlogloss:0.61892\n",
      "[60]\tvalidation_0-mlogloss:0.61155\n",
      "[70]\tvalidation_0-mlogloss:0.60707\n",
      "[80]\tvalidation_0-mlogloss:0.60236\n",
      "[90]\tvalidation_0-mlogloss:0.59904\n",
      "[100]\tvalidation_0-mlogloss:0.59724\n",
      "[110]\tvalidation_0-mlogloss:0.59502\n",
      "[120]\tvalidation_0-mlogloss:0.59301\n",
      "[130]\tvalidation_0-mlogloss:0.59105\n",
      "[140]\tvalidation_0-mlogloss:0.59005\n",
      "[150]\tvalidation_0-mlogloss:0.58899\n",
      "[160]\tvalidation_0-mlogloss:0.58814\n",
      "[170]\tvalidation_0-mlogloss:0.58730\n",
      "[180]\tvalidation_0-mlogloss:0.58677\n",
      "[190]\tvalidation_0-mlogloss:0.58668\n",
      "[199]\tvalidation_0-mlogloss:0.58712\n",
      "Fold 1 Val score: 0.5887\n",
      "-- -- -- ---- -- -- ---- -- -- ---- -- -- --\n"
     ]
    },
    {
     "name": "stderr",
     "output_type": "stream",
     "text": [
      "\r",
      "1it [11:40, 700.13s/it]"
     ]
    },
    {
     "name": "stdout",
     "output_type": "stream",
     "text": [
      "[0]\tvalidation_0-mlogloss:1.52700\n",
      "[10]\tvalidation_0-mlogloss:0.74845\n",
      "[20]\tvalidation_0-mlogloss:0.67677\n",
      "[30]\tvalidation_0-mlogloss:0.65096\n",
      "[40]\tvalidation_0-mlogloss:0.63769\n",
      "[50]\tvalidation_0-mlogloss:0.62557\n",
      "[60]\tvalidation_0-mlogloss:0.61715\n",
      "[70]\tvalidation_0-mlogloss:0.61179\n",
      "[80]\tvalidation_0-mlogloss:0.60665\n",
      "[90]\tvalidation_0-mlogloss:0.60217\n",
      "[100]\tvalidation_0-mlogloss:0.59891\n",
      "[110]\tvalidation_0-mlogloss:0.59659\n",
      "[120]\tvalidation_0-mlogloss:0.59530\n",
      "[130]\tvalidation_0-mlogloss:0.59364\n",
      "[140]\tvalidation_0-mlogloss:0.59201\n",
      "[150]\tvalidation_0-mlogloss:0.59132\n",
      "[160]\tvalidation_0-mlogloss:0.59064\n",
      "[170]\tvalidation_0-mlogloss:0.58956\n",
      "[180]\tvalidation_0-mlogloss:0.58916\n",
      "[190]\tvalidation_0-mlogloss:0.58921\n",
      "[199]\tvalidation_0-mlogloss:0.58924\n",
      "Fold 2 Val score: 0.6074\n",
      "-- -- -- ---- -- -- ---- -- -- ---- -- -- --\n"
     ]
    },
    {
     "name": "stderr",
     "output_type": "stream",
     "text": [
      "\r",
      "2it [23:05, 691.71s/it]"
     ]
    },
    {
     "name": "stdout",
     "output_type": "stream",
     "text": [
      "[0]\tvalidation_0-mlogloss:1.53039\n",
      "[10]\tvalidation_0-mlogloss:0.74504\n",
      "[20]\tvalidation_0-mlogloss:0.67240\n",
      "[30]\tvalidation_0-mlogloss:0.64867\n",
      "[40]\tvalidation_0-mlogloss:0.63389\n",
      "[50]\tvalidation_0-mlogloss:0.62468\n",
      "[60]\tvalidation_0-mlogloss:0.61703\n",
      "[70]\tvalidation_0-mlogloss:0.61173\n",
      "[80]\tvalidation_0-mlogloss:0.60744\n",
      "[90]\tvalidation_0-mlogloss:0.60405\n",
      "[100]\tvalidation_0-mlogloss:0.60112\n",
      "[110]\tvalidation_0-mlogloss:0.59908\n",
      "[120]\tvalidation_0-mlogloss:0.59627\n",
      "[130]\tvalidation_0-mlogloss:0.59476\n",
      "[140]\tvalidation_0-mlogloss:0.59388\n",
      "[150]\tvalidation_0-mlogloss:0.59251\n",
      "[160]\tvalidation_0-mlogloss:0.59203\n",
      "[170]\tvalidation_0-mlogloss:0.59176\n",
      "[180]\tvalidation_0-mlogloss:0.59113\n",
      "[190]\tvalidation_0-mlogloss:0.59126\n",
      "[199]\tvalidation_0-mlogloss:0.59032\n",
      "Fold 3 Val score: 0.5895\n",
      "-- -- -- ---- -- -- ---- -- -- ---- -- -- --\n"
     ]
    },
    {
     "name": "stderr",
     "output_type": "stream",
     "text": [
      "\r",
      "3it [33:50, 670.24s/it]"
     ]
    },
    {
     "name": "stdout",
     "output_type": "stream",
     "text": [
      "[0]\tvalidation_0-mlogloss:1.53392\n",
      "[10]\tvalidation_0-mlogloss:0.74723\n",
      "[20]\tvalidation_0-mlogloss:0.67464\n",
      "[30]\tvalidation_0-mlogloss:0.64886\n",
      "[40]\tvalidation_0-mlogloss:0.63582\n",
      "[50]\tvalidation_0-mlogloss:0.62686\n",
      "[60]\tvalidation_0-mlogloss:0.61952\n",
      "[70]\tvalidation_0-mlogloss:0.61381\n",
      "[80]\tvalidation_0-mlogloss:0.61042\n",
      "[90]\tvalidation_0-mlogloss:0.60694\n",
      "[100]\tvalidation_0-mlogloss:0.60396\n",
      "[110]\tvalidation_0-mlogloss:0.60215\n",
      "[120]\tvalidation_0-mlogloss:0.60023\n",
      "[130]\tvalidation_0-mlogloss:0.59941\n",
      "[140]\tvalidation_0-mlogloss:0.59758\n",
      "[150]\tvalidation_0-mlogloss:0.59620\n",
      "[160]\tvalidation_0-mlogloss:0.59503\n",
      "[170]\tvalidation_0-mlogloss:0.59480\n",
      "[180]\tvalidation_0-mlogloss:0.59363\n",
      "[190]\tvalidation_0-mlogloss:0.59336\n",
      "[199]\tvalidation_0-mlogloss:0.59362\n",
      "Fold 4 Val score: 0.5860\n",
      "-- -- -- ---- -- -- ---- -- -- ---- -- -- --\n"
     ]
    },
    {
     "name": "stderr",
     "output_type": "stream",
     "text": [
      "\r",
      "4it [44:48, 665.27s/it]"
     ]
    },
    {
     "name": "stdout",
     "output_type": "stream",
     "text": [
      "[0]\tvalidation_0-mlogloss:1.52593\n",
      "[10]\tvalidation_0-mlogloss:0.74359\n",
      "[20]\tvalidation_0-mlogloss:0.66748\n",
      "[30]\tvalidation_0-mlogloss:0.64264\n",
      "[40]\tvalidation_0-mlogloss:0.62980\n",
      "[50]\tvalidation_0-mlogloss:0.61791\n",
      "[60]\tvalidation_0-mlogloss:0.61141\n",
      "[70]\tvalidation_0-mlogloss:0.60554\n",
      "[80]\tvalidation_0-mlogloss:0.60137\n",
      "[90]\tvalidation_0-mlogloss:0.59794\n",
      "[100]\tvalidation_0-mlogloss:0.59602\n",
      "[110]\tvalidation_0-mlogloss:0.59447\n",
      "[120]\tvalidation_0-mlogloss:0.59232\n",
      "[130]\tvalidation_0-mlogloss:0.59032\n",
      "[140]\tvalidation_0-mlogloss:0.58946\n",
      "[150]\tvalidation_0-mlogloss:0.58762\n",
      "[160]\tvalidation_0-mlogloss:0.58732\n",
      "[170]\tvalidation_0-mlogloss:0.58719\n",
      "[180]\tvalidation_0-mlogloss:0.58703\n",
      "[190]\tvalidation_0-mlogloss:0.58730\n",
      "[199]\tvalidation_0-mlogloss:0.58719\n",
      "Fold 5 Val score: 0.6001\n",
      "-- -- -- ---- -- -- ---- -- -- ---- -- -- --\n"
     ]
    },
    {
     "name": "stderr",
     "output_type": "stream",
     "text": [
      "5it [55:52, 670.48s/it]"
     ]
    },
    {
     "name": "stdout",
     "output_type": "stream",
     "text": [
      "######### ^^^^^^^^^^ #########\n",
      "XGB: 0.5951\n"
     ]
    },
    {
     "name": "stderr",
     "output_type": "stream",
     "text": [
      "\n"
     ]
    }
   ],
   "source": [
    "# Entraînement via validation croisée\n",
    "preds, _ = oof_pred(model=xgb, X=X.copy(), y=y_enc.copy(), test_df=test_df.copy(), main_cols=main_cols, cv=skf)"
   ]
  },
  {
   "cell_type": "markdown",
   "id": "42d5c072",
   "metadata": {},
   "source": [
    "## 3. Inférence"
   ]
  },
  {
   "cell_type": "code",
   "execution_count": 9,
   "id": "def9a901",
   "metadata": {},
   "outputs": [],
   "source": [
    "# Inference\n",
    "final_preds = le.inverse_transform(np.argmax(preds, axis=1))"
   ]
  },
  {
   "cell_type": "code",
   "execution_count": 10,
   "id": "179c9a5b",
   "metadata": {},
   "outputs": [
    {
     "data": {
      "text/plain": [
       "0.3165041056957496"
      ]
     },
     "execution_count": 10,
     "metadata": {},
     "output_type": "execute_result"
    }
   ],
   "source": [
    "# Score\n",
    "f1_score(test_df[\"attack_cat\"], final_preds, average=\"macro\")"
   ]
  },
  {
   "cell_type": "code",
   "execution_count": 11,
   "id": "0e8ab41d",
   "metadata": {},
   "outputs": [],
   "source": [
    "# Ajoutons les prédictions dans le jeu de données Test\n",
    "test_df[\"preds\"] = final_preds"
   ]
  },
  {
   "cell_type": "code",
   "execution_count": 12,
   "id": "43a76bd2",
   "metadata": {},
   "outputs": [
    {
     "data": {
      "image/png": "[encoded data removed]",
      "text/plain": [
       "<Figure size 1500x500 with 2 Axes>"
      ]
     },
     "metadata": {},
     "output_type": "display_data"
    }
   ],
   "source": [
    "# Histogram\n",
    "plt.figure(figsize=(15,5))\n",
    "\n",
    "plt.subplot(121)\n",
    "ax = sns.countplot(x=\"attack_cat\", data=test_df)\n",
    "ax.bar_label(ax.containers[0])\n",
    "ax.tick_params(axis='x', labelrotation=70)\n",
    "plt.title(\"Distribution des vrais classes\")\n",
    "\n",
    "plt.subplot(122)\n",
    "ax = sns.countplot(x=\"preds\", data=test_df)\n",
    "ax.bar_label(ax.containers[0])\n",
    "ax.tick_params(axis='x', labelrotation=70)\n",
    "\n",
    "plt.title(\"Distribution des classes prédites\")\n",
    "plt.savefig(\"xgb_preds.pdf\", dpi=500, facecolor=\"w\", bbox_inches=\"tight\")\n",
    "plt.show()"
   ]
  },
  {
   "cell_type": "code",
   "execution_count": 13,
   "id": "f3fae4ad",
   "metadata": {
    "scrolled": true
   },
   "outputs": [
    {
     "name": "stdout",
     "output_type": "stream",
     "text": [
      "                precision    recall  f1-score   support\n",
      "\n",
      "      Analysis       0.02      0.01      0.01       677\n",
      "      Backdoor       0.03      0.17      0.05       583\n",
      "           DoS       0.16      0.13      0.14      4089\n",
      "      Exploits       0.55      0.64      0.59     11132\n",
      "       Fuzzers       0.20      0.73      0.31      6062\n",
      "       Generic       1.00      0.97      0.98     18871\n",
      "        Normal       0.99      0.52      0.68     36844\n",
      "Reconnaissance       0.44      0.11      0.18      3496\n",
      "     Shellcode       0.09      0.44      0.15       378\n",
      "         Worms       0.10      0.05      0.06        44\n",
      "\n",
      "      accuracy                           0.61     82176\n",
      "     macro avg       0.36      0.38      0.32     82176\n",
      "  weighted avg       0.79      0.61      0.65     82176\n",
      "\n"
     ]
    }
   ],
   "source": [
    "print(classification_report(test_df[\"attack_cat\"], test_df[\"preds\"]))"
   ]
  },
  {
   "cell_type": "code",
   "execution_count": null,
   "id": "4d998de2",
   "metadata": {},
   "outputs": [],
   "source": []
  },
  {
   "cell_type": "code",
   "execution_count": null,
   "id": "c76ebd4a",
   "metadata": {},
   "outputs": [],
   "source": []
  }
 ],
 "metadata": {
  "kernelspec": {
   "display_name": "Python 3 (ipykernel)",
   "language": "python",
   "name": "python3"
  },
  "language_info": {
   "codemirror_mode": {
    "name": "ipython",
    "version": 3
   },
   "file_extension": ".py",
   "mimetype": "text/x-python",
   "name": "python",
   "nbconvert_exporter": "python",
   "pygments_lexer": "ipython3",
   "version": "3.10.12"
  }
 },
 "nbformat": 4,
 "nbformat_minor": 5
}
